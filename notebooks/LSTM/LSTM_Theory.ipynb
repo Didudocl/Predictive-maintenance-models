{
 "cells": [
  {
   "cell_type": "markdown",
   "metadata": {},
   "source": [
    "# Redes neuronales de memoria de corto-largo plazo"
   ]
  },
  {
   "cell_type": "markdown",
   "metadata": {},
   "source": [
    "En este tema se explica cómo trabajar con datos de series de tiempo en tareas de clasificación usando redes neuronales de memoria de corto-largo plazo (LSTM). Una red neuronal de LSTM es un tipo de red neuronal recurrente (RNN) que puede aprender dependencias a largo plazo entre unidades de tiempo de datos secuenciales."
   ]
  },
  {
   "cell_type": "markdown",
   "metadata": {},
   "source": [
    "## Arquitectura de red neuronal LSTM"
   ]
  },
  {
   "cell_type": "markdown",
   "metadata": {},
   "source": [
    "Los componentes principales de una red neuronal de LSTM son una capa de entrada de secuencias y una capa de LSTM. Una capa de entrada de secuencias introduce datos secuenciales o de series de tiempo en la red neuronal. Una capa de LSTM aprende dependencias a largo plazo entre las unidades de tiempo de los datos secuenciales."
   ]
  },
  {
   "cell_type": "markdown",
   "metadata": {},
   "source": [
    "Diagrama que ilustra la arquitectura de una red neuronal LSTM sencilla para clasificación de series de tiempo:\n",
    "\n",
    "![lstmnetwork.png](../images/lstmnetwork.png)"
   ]
  },
  {
   "cell_type": "markdown",
   "metadata": {},
   "source": [
    "Este diagrama ilustra el flujo de datos a través de una capa LSTM con entrada **x**, salida **y** y con *T* unidades de tiempo. En el diagrama, **h(t)** determina la salida (también conocida como el estado oculto) y **c(t)** denota el estado de celda en la unidad de tiempo *t*.\n",
    "\n",
    "Si la capa genera la secuencia completa, entonces genera **y(1)**, ..., **y(T)**, que es equivalente a **h(1)**, ..., **h(T)**. Si la capa genera únicamente la última unidad de tiempo, entonces genera **y(T)**, que es equivalente a **h(T)**. El número de canales en la salida coincide con el número de unidades ocultas de la capa de LSTM."
   ]
  },
  {
   "cell_type": "markdown",
   "metadata": {},
   "source": [
    "![arquitecturaLSTM.png](../images/arquitecturaLSTM.png)"
   ]
  },
  {
   "cell_type": "markdown",
   "metadata": {},
   "source": [
    "La primera operación de LSTM utiliza el estado inicial de la RNN y la primera unidad de tiempo de la secuencia para calcular la primera salida y el estado de celda actualizado. En la unidad de tiempo t, la operación utiliza el estado actual de la RNN **(c(t-1), h(t-1))** y la siguiente unidad de tiempo de la secuencia para calcular la salida y el estado de celta actualizado **c(t)**.\n",
    "\n",
    "El estado de la capa consiste en el estado oculto (también conocido como el estado de salida) y el estado de celda. El estado oculto en la unidad de tiempo t contiene la salida de la capa de LSTM para esta unidad de tiempo. El estado de celda contiene la información aprendida en las unidades de tiempo anteriores. En cada unidad de tiempo, la capa añade información a o elimina información del estado de celda. La capa controla estas actualizaciones mediante puertas.\n",
    "\n",
    "Estos componentes controlan el estado de la celda y el estado oculto de la capa."
   ]
  },
  {
   "cell_type": "markdown",
   "metadata": {},
   "source": [
    "![table.png](../images/table.png)"
   ]
  },
  {
   "cell_type": "markdown",
   "metadata": {},
   "source": [
    "Este diagrama ilustra el flujo de datos en la unidad de tiempo **t**. Este diagrama muestra cómo las puertas olvidan, actualizan y generan los estados de celta y oculto."
   ]
  },
  {
   "cell_type": "markdown",
   "metadata": {},
   "source": [
    "![lstmgates.png](../images/lstmgates.png)"
   ]
  },
  {
   "cell_type": "markdown",
   "metadata": {},
   "source": [
    "## Capas"
   ]
  },
  {
   "cell_type": "markdown",
   "metadata": {},
   "source": [
    "![capas.png](../images/capas.png)"
   ]
  },
  {
   "cell_type": "markdown",
   "metadata": {},
   "source": [
    "## Clasificación, predicción y pronóstico"
   ]
  },
  {
   "cell_type": "markdown",
   "metadata": {},
   "source": [
    "Para hacer predicciones sobre nuevos datos, use la función `minibatchpredict`. Para convertir las puntuaciones de clasificación predichas en etiquetas, use la función `scores2label`.\n",
    "\n",
    "Las redes neuronales LSTM pueden recordar el estado de la red neuronal entre predicciones. El estado de RNN resulta útil cuando no se tienen las series de tiempo completas con antelación o si se desea hacer múltiples predicciones sobre una serie de tiempo larga.\n",
    "\n",
    "Para predecir y clasificar partes de una serie de tiempo y actualizar el estado de la RNN, use la función `predict` y también devuelva y actualice el estado de la red neuronal. Para restablecer el estado de RNN entre predicciones, utilice `resetState`."
   ]
  },
  {
   "cell_type": "markdown",
   "metadata": {},
   "source": [
    "## Relleno y truncado de secuencias"
   ]
  },
  {
   "cell_type": "markdown",
   "metadata": {},
   "source": [
    "Las redes neuronales LSTM admiten datos de entrada con diferentes longitudes de secuencia. Cuando se pasan datos a través de la red neuronal, el software rellena o trunca las secuencias para que todas las secuencias de cada minilote tengan la longitud especificada. Puede especificar las longitudes de secuencia y el valor utilizado para rellenar las secuencias con las operaciones de entrenamiento `SequenceLength` y `SequencePaddingValue`.\n",
    "\n",
    "Después de entrenar la red neuronal, puede usar las mismas opciones de relleno y tamaño de minilote cuando use la función `minibatchpredict`."
   ]
  },
  {
   "cell_type": "markdown",
   "metadata": {},
   "source": [
    "### Ordenar secuencias por longitud"
   ]
  },
  {
   "cell_type": "markdown",
   "metadata": {},
   "source": [
    "Para reducir la cantidad de relleno o de datos descartados cuando rellene o trunque secuencias, pruebe a ordenar los datos por longitud de secuencia. Para secuencias en las que la primera dimensión corresponde a la unidades de tiempo, para ordenar los datos por longitud de secuencia, obtenga primero el número de columnas de cada secuencia aplicando `size(X,1)` a cada secuencia con `cellfun`. A continuación, ordene las longitudes de secuencia con `sort` y utilice la segunda salida para reordenar las secuencias originales."
   ]
  },
  {
   "cell_type": "markdown",
   "metadata": {},
   "source": [
    "![sortsequences.png](../images/sortsequences.png)"
   ]
  },
  {
   "cell_type": "markdown",
   "metadata": {},
   "source": [
    "### Rellenar secuencias"
   ]
  },
  {
   "cell_type": "markdown",
   "metadata": {},
   "source": [
    "Si la opción de predicción o entrenamiento `SequenceLength` es \"longest\", el software rellena las secuencias de forma que todas las secuencias de un minilote tengan las misma longitud que la secuencia más larga del minilote. Esta es la opción por defecto."
   ]
  },
  {
   "cell_type": "markdown",
   "metadata": {},
   "source": [
    "![padsequenceslongest.png](../images/padsequenceslongest.png)"
   ]
  },
  {
   "cell_type": "markdown",
   "metadata": {},
   "source": [
    "### Truncar secuencias"
   ]
  },
  {
   "cell_type": "markdown",
   "metadata": {},
   "source": [
    "Si la opción de predicción o entrenamiento `SequenceLength` es \"shortest\", el software trunca las secuencias de forma que todas las secuencias de un minilote tengan las misma longitud que la secuencia más corta de ese minilote. Los datos restantes de las secuencias se descartan."
   ]
  },
  {
   "cell_type": "markdown",
   "metadata": {},
   "source": [
    "![truncatesequencesshortest.png](../images/truncatesequencesshortest.png)"
   ]
  }
 ],
 "metadata": {
  "kernelspec": {
   "display_name": "Python 3",
   "language": "python",
   "name": "python3"
  },
  "language_info": {
   "name": "python",
   "version": "3.12.3"
  }
 },
 "nbformat": 4,
 "nbformat_minor": 2
}
