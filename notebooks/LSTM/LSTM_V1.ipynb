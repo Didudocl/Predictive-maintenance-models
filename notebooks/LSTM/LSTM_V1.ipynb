{
 "cells": [
  {
   "cell_type": "markdown",
   "metadata": {},
   "source": [
    "# El problema a resolver"
   ]
  },
  {
   "cell_type": "markdown",
   "metadata": {},
   "source": [
    "El principal problema es el siguiente: Dado distintas maquinas del rubro de la fabricación de tubos y perfiles de acero galvanizado, se necesita saber cuando ocurrirá una nuva mantención correctiva en cada una de las maquinas. Para ello, se cuenta con un dataset que contiene la fecha en que se realizó una mantención `Fecha`, el codigo de maquina `cCodigoMaquina` y el tipo de mantención `cDetencion`, si la mantención es correctiva el valor es `S`, si es preventiva el valor es `N`. "
   ]
  },
  {
   "cell_type": "markdown",
   "metadata": {},
   "source": [
    "## Lectura del set de datos"
   ]
  },
  {
   "cell_type": "markdown",
   "metadata": {},
   "source": [
    "Comencemos importando las librerías requeridas para nuestro proyecto así realizando tambien la lectura del set de datos (que se encuentra almacenado en formato XLSX).\n",
    "\n",
    "En particular importamos el dataset desde la carpeta del proyecto llamada `data`, utilizamos la librería `Pandas` para la lectura del archivo y almacenamos el contenido en un DataFrame llamado `df`."
   ]
  },
  {
   "cell_type": "markdown",
   "metadata": {},
   "source": [
    "## Librerías a utilizar"
   ]
  },
  {
   "cell_type": "markdown",
   "metadata": {},
   "source": [
    "1. **NumPy:** Biblioteca fundamental para cálculos numéricos en Python. Se utiliza para manejar matrices y realizar operaciones matemáticas eficientes.\n",
    "\n",
    "2. **Pandas:** Biblioteca esencial para la manipulación y análisi de datos. se utiliza para leer, procesar y analizar estructuras de datso como DataFrames.\n",
    "\n",
    "3. **MinMaxScaler:** Clase de scikit-learn para calcular y mostrar una matriz de confusión, útil para evaluar el rendimiento de un modelo de clasificación.\n",
    "\n",
    "4. **Confusion Matrix:** Funciones de scikit-learn para calcular y mostrar una matriz de confusión, útil para evaluar el rendimiento de un modelo de clasificación.\n",
    "\n",
    "5. **TimeseriesGenerator:** Clase de TensorFlow/Keras que genera datos de series temporales para modelos de redes neuronales recurrentes (RNN), como LSTM.\n",
    "\n",
    "6. **Sequential Model:** Clase de Keras utilizada para crear modelos de redes neuronales secuenciales, donde las capas se añaden una tras otra.\n",
    "\n",
    "7. **LSTM y Dense Layers:** Clases de Keras para crear capas LSTM y densas. LSTM (Long Short-Term Memory) se utiliza para modelar secuencias de datos, mientras que Dense se utiliza para crear capas completamente conectadas en una red neuronal.\n",
    "\n",
    "8. **Matplotlib:** Biblioteca de visualización en Python, utilizada para crear gráficos y visualizaciones. En este caso, se utiliza para graficar la precisión, pérdida y resultados del modelo."
   ]
  },
  {
   "cell_type": "code",
   "execution_count": 40,
   "metadata": {},
   "outputs": [
    {
     "name": "stderr",
     "output_type": "stream",
     "text": [
      "Downloading...\n",
      "From: https://drive.google.com/uc?id=171gRRh-FkAx72nCknXvskG3Egq-K3FzM\n",
      "To: c:\\Users\\Diego Salazar Dev\\Desktop\\Practica2\\data\\dataset_v1.xlsx\n",
      "100%|██████████| 1.13M/1.13M [00:00<00:00, 7.03MB/s]\n"
     ]
    }
   ],
   "source": [
    "import numpy as np\n",
    "import pandas as pd\n",
    "import gdown\n",
    "from sklearn.preprocessing import MinMaxScaler\n",
    "from sklearn.metrics import confusion_matrix, ConfusionMatrixDisplay\n",
    "from tensorflow.keras.preprocessing.sequence import TimeseriesGenerator\n",
    "from tensorflow.keras.models import Sequential\n",
    "from tensorflow.keras.layers import LSTM, Dense\n",
    "import matplotlib.pyplot as plt\n",
    "\n",
    "# ID del archivo en Google Drive\n",
    "file_id = '171gRRh-FkAx72nCknXvskG3Egq-K3FzM'\n",
    "\n",
    "# URL de descarga\n",
    "url = f'https://drive.google.com/uc?id={file_id}'\n",
    "\n",
    "# Descargar el archivo\n",
    "output = '../../data/dataset_v1.xlsx'\n",
    "\n",
    "gdown.download(url, output, quiet=False)\n",
    "\n",
    "# Leer el archivo con pandas\n",
    "df = pd.read_excel(output, skiprows=3)\n",
    "\n",
    "# Asignar nombres correctos a las columnas\n",
    "df.columns = ['Fecha_OTM', 'CodigoMaquina', 'Detencion', 'Correctiva', 'Fecha'] # Revisar esto\n",
    "\n",
    "# Reemplazar 'Fecha_OTM' por 'Fecha' y 'Detencion' por 'Correctiva'\n",
    "df['Fecha_OTM'] = df['Fecha']\n",
    "df['Detencion'] = df['Correctiva']\n",
    "\n",
    "# Eliminar las columnas originales si es necesario\n",
    "df.drop(columns=['Fecha','Correctiva'], inplace=True)"
   ]
  },
  {
   "cell_type": "markdown",
   "metadata": {},
   "source": [
    "## Procesamiento inicial del dataset"
   ]
  },
  {
   "cell_type": "code",
   "execution_count": 41,
   "metadata": {},
   "outputs": [
    {
     "data": {
      "text/html": [
       "<div>\n",
       "<style scoped>\n",
       "    .dataframe tbody tr th:only-of-type {\n",
       "        vertical-align: middle;\n",
       "    }\n",
       "\n",
       "    .dataframe tbody tr th {\n",
       "        vertical-align: top;\n",
       "    }\n",
       "\n",
       "    .dataframe thead th {\n",
       "        text-align: right;\n",
       "    }\n",
       "</style>\n",
       "<table border=\"1\" class=\"dataframe\">\n",
       "  <thead>\n",
       "    <tr style=\"text-align: right;\">\n",
       "      <th></th>\n",
       "      <th>Fecha_OTM</th>\n",
       "      <th>CodigoMaquina</th>\n",
       "      <th>Detencion</th>\n",
       "    </tr>\n",
       "  </thead>\n",
       "  <tbody>\n",
       "    <tr>\n",
       "      <th>0</th>\n",
       "      <td>26-12-2022</td>\n",
       "      <td>APE7</td>\n",
       "      <td>0</td>\n",
       "    </tr>\n",
       "    <tr>\n",
       "      <th>1</th>\n",
       "      <td>27-12-2022</td>\n",
       "      <td>APE7</td>\n",
       "      <td>0</td>\n",
       "    </tr>\n",
       "    <tr>\n",
       "      <th>2</th>\n",
       "      <td>27-12-2022</td>\n",
       "      <td>APE7</td>\n",
       "      <td>0</td>\n",
       "    </tr>\n",
       "    <tr>\n",
       "      <th>3</th>\n",
       "      <td>13-01-2023</td>\n",
       "      <td>APE7</td>\n",
       "      <td>0</td>\n",
       "    </tr>\n",
       "    <tr>\n",
       "      <th>4</th>\n",
       "      <td>14-01-2023</td>\n",
       "      <td>APE7</td>\n",
       "      <td>0</td>\n",
       "    </tr>\n",
       "    <tr>\n",
       "      <th>...</th>\n",
       "      <td>...</td>\n",
       "      <td>...</td>\n",
       "      <td>...</td>\n",
       "    </tr>\n",
       "    <tr>\n",
       "      <th>29963</th>\n",
       "      <td>01-02-2024</td>\n",
       "      <td>TB5</td>\n",
       "      <td>0</td>\n",
       "    </tr>\n",
       "    <tr>\n",
       "      <th>29964</th>\n",
       "      <td>01-02-2024</td>\n",
       "      <td>TB5</td>\n",
       "      <td>0</td>\n",
       "    </tr>\n",
       "    <tr>\n",
       "      <th>29965</th>\n",
       "      <td>01-02-2024</td>\n",
       "      <td>TB5</td>\n",
       "      <td>0</td>\n",
       "    </tr>\n",
       "    <tr>\n",
       "      <th>29966</th>\n",
       "      <td>01-02-2024</td>\n",
       "      <td>TB5</td>\n",
       "      <td>0</td>\n",
       "    </tr>\n",
       "    <tr>\n",
       "      <th>29967</th>\n",
       "      <td>01-02-2024</td>\n",
       "      <td>TB5</td>\n",
       "      <td>0</td>\n",
       "    </tr>\n",
       "  </tbody>\n",
       "</table>\n",
       "<p>29968 rows × 3 columns</p>\n",
       "</div>"
      ],
      "text/plain": [
       "        Fecha_OTM CodigoMaquina  Detencion\n",
       "0      26-12-2022          APE7          0\n",
       "1      27-12-2022          APE7          0\n",
       "2      27-12-2022          APE7          0\n",
       "3      13-01-2023          APE7          0\n",
       "4      14-01-2023          APE7          0\n",
       "...           ...           ...        ...\n",
       "29963  01-02-2024           TB5          0\n",
       "29964  01-02-2024           TB5          0\n",
       "29965  01-02-2024           TB5          0\n",
       "29966  01-02-2024           TB5          0\n",
       "29967  01-02-2024           TB5          0\n",
       "\n",
       "[29968 rows x 3 columns]"
      ]
     },
     "execution_count": 41,
     "metadata": {},
     "output_type": "execute_result"
    }
   ],
   "source": [
    "# Verificamos el tipo de datos que es la columna 'Fecha'\n",
    "df['Fecha_OTM'].dtype\n",
    "df"
   ]
  },
  {
   "cell_type": "markdown",
   "metadata": {},
   "source": [
    "El resultado nos arroja:\n",
    "\n",
    "```python\n",
    "dtype('O')\n",
    "```\n",
    "\n",
    "Esto nos indica que el tipo de dato es `object`, por lo que se procede a realizar una conversión de los datos a un formato de tipo `datetime`."
   ]
  },
  {
   "cell_type": "markdown",
   "metadata": {},
   "source": [
    "Para convertir esta columna del formato object al formato datetime podemos usar la función `to_datetime` de la librería **Pandas**:"
   ]
  },
  {
   "cell_type": "code",
   "execution_count": 42,
   "metadata": {},
   "outputs": [
    {
     "name": "stdout",
     "output_type": "stream",
     "text": [
      "object\n"
     ]
    },
    {
     "data": {
      "text/html": [
       "<div>\n",
       "<style scoped>\n",
       "    .dataframe tbody tr th:only-of-type {\n",
       "        vertical-align: middle;\n",
       "    }\n",
       "\n",
       "    .dataframe tbody tr th {\n",
       "        vertical-align: top;\n",
       "    }\n",
       "\n",
       "    .dataframe thead th {\n",
       "        text-align: right;\n",
       "    }\n",
       "</style>\n",
       "<table border=\"1\" class=\"dataframe\">\n",
       "  <thead>\n",
       "    <tr style=\"text-align: right;\">\n",
       "      <th></th>\n",
       "      <th>Fecha_OTM</th>\n",
       "      <th>CodigoMaquina</th>\n",
       "      <th>Detencion</th>\n",
       "      <th>Fecha</th>\n",
       "    </tr>\n",
       "  </thead>\n",
       "  <tbody>\n",
       "    <tr>\n",
       "      <th>0</th>\n",
       "      <td>26-12-2022</td>\n",
       "      <td>APE7</td>\n",
       "      <td>0</td>\n",
       "      <td>2022-12-26</td>\n",
       "    </tr>\n",
       "    <tr>\n",
       "      <th>1</th>\n",
       "      <td>27-12-2022</td>\n",
       "      <td>APE7</td>\n",
       "      <td>0</td>\n",
       "      <td>2022-12-27</td>\n",
       "    </tr>\n",
       "    <tr>\n",
       "      <th>2</th>\n",
       "      <td>27-12-2022</td>\n",
       "      <td>APE7</td>\n",
       "      <td>0</td>\n",
       "      <td>2022-12-27</td>\n",
       "    </tr>\n",
       "    <tr>\n",
       "      <th>3</th>\n",
       "      <td>13-01-2023</td>\n",
       "      <td>APE7</td>\n",
       "      <td>0</td>\n",
       "      <td>2023-01-13</td>\n",
       "    </tr>\n",
       "    <tr>\n",
       "      <th>4</th>\n",
       "      <td>14-01-2023</td>\n",
       "      <td>APE7</td>\n",
       "      <td>0</td>\n",
       "      <td>2023-01-14</td>\n",
       "    </tr>\n",
       "    <tr>\n",
       "      <th>...</th>\n",
       "      <td>...</td>\n",
       "      <td>...</td>\n",
       "      <td>...</td>\n",
       "      <td>...</td>\n",
       "    </tr>\n",
       "    <tr>\n",
       "      <th>29963</th>\n",
       "      <td>01-02-2024</td>\n",
       "      <td>TB5</td>\n",
       "      <td>0</td>\n",
       "      <td>2024-02-01</td>\n",
       "    </tr>\n",
       "    <tr>\n",
       "      <th>29964</th>\n",
       "      <td>01-02-2024</td>\n",
       "      <td>TB5</td>\n",
       "      <td>0</td>\n",
       "      <td>2024-02-01</td>\n",
       "    </tr>\n",
       "    <tr>\n",
       "      <th>29965</th>\n",
       "      <td>01-02-2024</td>\n",
       "      <td>TB5</td>\n",
       "      <td>0</td>\n",
       "      <td>2024-02-01</td>\n",
       "    </tr>\n",
       "    <tr>\n",
       "      <th>29966</th>\n",
       "      <td>01-02-2024</td>\n",
       "      <td>TB5</td>\n",
       "      <td>0</td>\n",
       "      <td>2024-02-01</td>\n",
       "    </tr>\n",
       "    <tr>\n",
       "      <th>29967</th>\n",
       "      <td>01-02-2024</td>\n",
       "      <td>TB5</td>\n",
       "      <td>0</td>\n",
       "      <td>2024-02-01</td>\n",
       "    </tr>\n",
       "  </tbody>\n",
       "</table>\n",
       "<p>29968 rows × 4 columns</p>\n",
       "</div>"
      ],
      "text/plain": [
       "        Fecha_OTM CodigoMaquina  Detencion      Fecha\n",
       "0      26-12-2022          APE7          0 2022-12-26\n",
       "1      27-12-2022          APE7          0 2022-12-27\n",
       "2      27-12-2022          APE7          0 2022-12-27\n",
       "3      13-01-2023          APE7          0 2023-01-13\n",
       "4      14-01-2023          APE7          0 2023-01-14\n",
       "...           ...           ...        ...        ...\n",
       "29963  01-02-2024           TB5          0 2024-02-01\n",
       "29964  01-02-2024           TB5          0 2024-02-01\n",
       "29965  01-02-2024           TB5          0 2024-02-01\n",
       "29966  01-02-2024           TB5          0 2024-02-01\n",
       "29967  01-02-2024           TB5          0 2024-02-01\n",
       "\n",
       "[29968 rows x 4 columns]"
      ]
     },
     "execution_count": 42,
     "metadata": {},
     "output_type": "execute_result"
    }
   ],
   "source": [
    "df['Fecha'] = pd.to_datetime(\n",
    "    df['Fecha_OTM'], \n",
    "    format='%d-%m-%Y', \n",
    "    errors='coerce')\n",
    "\n",
    "print(df['Fecha_OTM'].dtype)\n",
    "\n",
    "#df = df.set_index('Fecha') # me quita el index 0,1,2,3,4, por las fechas, lo cual es erroneo creo, revisar esto\n",
    "df"
   ]
  },
  {
   "cell_type": "markdown",
   "metadata": {},
   "source": [
    "Una vez realizada la conversión, podemos fijar esta columna `datetime` como el nuevo índice de nuestro *DataFrame* de **Pandas**, usando la función `set_index`:"
   ]
  },
  {
   "cell_type": "code",
   "execution_count": 43,
   "metadata": {},
   "outputs": [
    {
     "name": "stdout",
     "output_type": "stream",
     "text": [
      "             Fecha_OTM CodigoMaquina  Detencion\n",
      "Fecha                                          \n",
      "2022-12-26  26-12-2022          APE7          0\n",
      "2022-12-27  27-12-2022          APE7          0\n",
      "2022-12-27  27-12-2022          APE7          0\n",
      "2023-01-13  13-01-2023          APE7          0\n",
      "2023-01-14  14-01-2023          APE7          0\n",
      "...                ...           ...        ...\n",
      "2024-02-01  01-02-2024           TB5          0\n",
      "2024-02-01  01-02-2024           TB5          0\n",
      "2024-02-01  01-02-2024           TB5          0\n",
      "2024-02-01  01-02-2024           TB5          0\n",
      "2024-02-01  01-02-2024           TB5          0\n",
      "\n",
      "[29968 rows x 3 columns]\n"
     ]
    }
   ],
   "source": [
    "df = df.set_index('Fecha')\n",
    "print(df)"
   ]
  },
  {
   "cell_type": "markdown",
   "metadata": {},
   "source": [
    "Adicionalmente debemos garantizar que la variable tiempo de nustra seria (precisamente el índice `Fecha`) está organizada cronológicamente de manera ascendente. Para esto podemos usar la función `sort_index` de **Pandas**:"
   ]
  },
  {
   "cell_type": "code",
   "execution_count": 48,
   "metadata": {},
   "outputs": [
    {
     "data": {
      "text/html": [
       "<div>\n",
       "<style scoped>\n",
       "    .dataframe tbody tr th:only-of-type {\n",
       "        vertical-align: middle;\n",
       "    }\n",
       "\n",
       "    .dataframe tbody tr th {\n",
       "        vertical-align: top;\n",
       "    }\n",
       "\n",
       "    .dataframe thead th {\n",
       "        text-align: right;\n",
       "    }\n",
       "</style>\n",
       "<table border=\"1\" class=\"dataframe\">\n",
       "  <thead>\n",
       "    <tr style=\"text-align: right;\">\n",
       "      <th></th>\n",
       "      <th>CodigoMaquina</th>\n",
       "      <th>Detencion</th>\n",
       "    </tr>\n",
       "    <tr>\n",
       "      <th>Fecha</th>\n",
       "      <th></th>\n",
       "      <th></th>\n",
       "    </tr>\n",
       "  </thead>\n",
       "  <tbody>\n",
       "    <tr>\n",
       "      <th>2020-01-02</th>\n",
       "      <td>TB4</td>\n",
       "      <td>0</td>\n",
       "    </tr>\n",
       "    <tr>\n",
       "      <th>2020-01-02</th>\n",
       "      <td>PG3</td>\n",
       "      <td>0</td>\n",
       "    </tr>\n",
       "    <tr>\n",
       "      <th>2020-01-02</th>\n",
       "      <td>TB4</td>\n",
       "      <td>0</td>\n",
       "    </tr>\n",
       "    <tr>\n",
       "      <th>2020-01-02</th>\n",
       "      <td>TB4</td>\n",
       "      <td>0</td>\n",
       "    </tr>\n",
       "    <tr>\n",
       "      <th>2020-01-02</th>\n",
       "      <td>CR2</td>\n",
       "      <td>0</td>\n",
       "    </tr>\n",
       "    <tr>\n",
       "      <th>...</th>\n",
       "      <td>...</td>\n",
       "      <td>...</td>\n",
       "    </tr>\n",
       "    <tr>\n",
       "      <th>2024-02-01</th>\n",
       "      <td>PG3</td>\n",
       "      <td>0</td>\n",
       "    </tr>\n",
       "    <tr>\n",
       "      <th>2024-02-01</th>\n",
       "      <td>PG1</td>\n",
       "      <td>0</td>\n",
       "    </tr>\n",
       "    <tr>\n",
       "      <th>2024-02-01</th>\n",
       "      <td>PE7</td>\n",
       "      <td>0</td>\n",
       "    </tr>\n",
       "    <tr>\n",
       "      <th>2024-02-01</th>\n",
       "      <td>PE2</td>\n",
       "      <td>0</td>\n",
       "    </tr>\n",
       "    <tr>\n",
       "      <th>2024-02-01</th>\n",
       "      <td>TB5</td>\n",
       "      <td>0</td>\n",
       "    </tr>\n",
       "  </tbody>\n",
       "</table>\n",
       "<p>29968 rows × 2 columns</p>\n",
       "</div>"
      ],
      "text/plain": [
       "           CodigoMaquina  Detencion\n",
       "Fecha                              \n",
       "2020-01-02           TB4          0\n",
       "2020-01-02           PG3          0\n",
       "2020-01-02           TB4          0\n",
       "2020-01-02           TB4          0\n",
       "2020-01-02           CR2          0\n",
       "...                  ...        ...\n",
       "2024-02-01           PG3          0\n",
       "2024-02-01           PG1          0\n",
       "2024-02-01           PE7          0\n",
       "2024-02-01           PE2          0\n",
       "2024-02-01           TB5          0\n",
       "\n",
       "[29968 rows x 2 columns]"
      ]
     },
     "execution_count": 48,
     "metadata": {},
     "output_type": "execute_result"
    }
   ],
   "source": [
    "df.sort_index(inplace=True)\n",
    "df.drop(columns=['Fecha_OTM'], inplace=True)\n",
    "df"
   ]
  },
  {
   "cell_type": "markdown",
   "metadata": {},
   "source": [
    "En este punto ya tenemos un set de datos en donde el índice está en el formato deseado (`datetime`) y donde además las marcas de tiempo tienen un orden cronológico ascendente."
   ]
  },
  {
   "cell_type": "markdown",
   "metadata": {},
   "source": [
    "## Análisis exploratorio"
   ]
  },
  {
   "cell_type": "markdown",
   "metadata": {},
   "source": [
    "El dataset se compone de 3 variables:\n",
    "\n",
    "- **Fecha:** Marca de tiempo en la que se realizó la mantención.\n",
    "\n",
    "- **cCodigoMaquina:** Código de la máquina que se mantuvo.\n",
    "\n",
    "- **cDetencion:** Tipo de mantención realizada (correctiva o preventiva) -> Correctiva = 1, Preventiva = 0."
   ]
  },
  {
   "cell_type": "markdown",
   "metadata": {},
   "source": [
    "Además, al momento de implementar el modelo predictivo tendremos tres tipos de variables:\n",
    "\n",
    "1. La variable a predecir: Que es simplemente la variable que queremos pronosticar y que será la salida del modelo LSTM. En este caso esta variable a predecir es si es que la maquina tuvo preventiva (0) o correctiva (1) (`cDetencion`).\n",
    "\n",
    "2. Las variables predictoras (o covariables): Que son las variables de entrada del modelo LSTM y a partir de las cuales el modelo podra realizar la predicción. En este caso las covariables son todas las columnas de nustro dataset (incluyendo la misma variable a predecir), por lo que serán `cDentencion` que indica el tipo de mantenimiento, `Fecha` que inda la fecha en que se realizo la mantención y finalmente `cCodigoMaquina` que indica el codigo de maquina al que se le realizo mantenimiento en una fecha determinada."
   ]
  },
  {
   "cell_type": "markdown",
   "metadata": {},
   "source": [
    "## Visualizar el set de datos"
   ]
  },
  {
   "cell_type": "code",
   "execution_count": 49,
   "metadata": {},
   "outputs": [
    {
     "data": {
      "image/png": "[encoded data removed]",
      "text/plain": [
       "<Figure size 800x1000 with 1 Axes>"
      ]
     },
     "metadata": {},
     "output_type": "display_data"
    }
   ],
   "source": [
    "# Columnas del dataset\n",
    "cols = df.columns\n",
    "\n",
    "# Dibujar la totalidad de registros\n",
    "N = df.shape[0] # Numero de registros\n",
    "plots = df[cols][0:N] # Series de tiempo individuales\n",
    "plots.index = df.index[0:N] # Variable de tiempo\n",
    "_ = plots.plot(subplots = True, figsize = (8,10))"
   ]
  },
  {
   "cell_type": "markdown",
   "metadata": {},
   "source": [
    "## Análisis de datos faltantes"
   ]
  },
  {
   "cell_type": "code",
   "execution_count": 50,
   "metadata": {},
   "outputs": [
    {
     "name": "stdout",
     "output_type": "stream",
     "text": [
      "Cantidad de NANs: \n",
      "\tColumna CodigoMaquina: 0\n",
      "\tColumna Detencion: 0\n"
     ]
    }
   ],
   "source": [
    "print('Cantidad de NANs: ')\n",
    "for column in df:\n",
    "    nans = df[column].isna().sum()\n",
    "    print(f'\\tColumna {column}: {nans}')"
   ]
  },
  {
   "cell_type": "markdown",
   "metadata": {},
   "source": [
    "Como podemos ver la cantidad de `NAN's` es 0 por lo que no tenemos datos faltantes en nuestro dataset."
   ]
  },
  {
   "cell_type": "markdown",
   "metadata": {},
   "source": [
    "## Análisis de la periodicidad del dataset"
   ]
  },
  {
   "cell_type": "markdown",
   "metadata": {},
   "source": [
    "En este paso debemos verificar si entre muestras consecutivas del set de datos existe una diferencia temporal."
   ]
  },
  {
   "cell_type": "code",
   "execution_count": 51,
   "metadata": {},
   "outputs": [
    {
     "name": "stdout",
     "output_type": "stream",
     "text": [
      "Fecha\n",
      "0 days     28697\n",
      "1 days      1140\n",
      "2 days        94\n",
      "3 days        24\n",
      "4 days         9\n",
      "18 days        1\n",
      "32 days        1\n",
      "5 days         1\n",
      "Name: count, dtype: int64\n"
     ]
    }
   ],
   "source": [
    "df_time_diffs = df.index.to_series().diff()\n",
    "print(df_time_diffs.value_counts())"
   ]
  },
  {
   "cell_type": "markdown",
   "metadata": {},
   "source": [
    "Esto indica que:\n",
    "- Hay muchos mantenimientos que se realizan el mismo día en distintas máquinas. `(0 days -> 28697)`\n",
    "\n",
    "- Hay un mantenimiento que se realizó en una máquina y al día siguiente se realizó en la misma máquina. `(1 days -> 1140)`\n",
    "\n",
    "- Hay un mantenimiento que se realizó en una máquina y al día siguiente se realizó en la misma máquina. `(2 days -> 94)`\n",
    "\n",
    "- Hay un mantenimiento que se realizó en una máquina y a los dos días se realizó la máquina. `(3 days -> 24)`\n",
    "\n",
    "- Hay un mantenimiento que se realizó en una máquina y a los tres días se realizó la máquina. `(4 days -> 9)`\n",
    "\n",
    "- Hay un mantenimiento que se realizó en una máquina y a los cuatro días se realizó la máquina. `(5 days -> 4)`\n",
    "\n",
    "- Hay un mantenimiento que se realizó en una máquina y a los diecisiete días se realizó la máquina. `(18 days -> 1)`\n",
    "\n",
    "- Hay un mantenimiento que se realizó en una máquina y a los treinta y dos días se realizó en la misma máquina. `(32 days -> 1)`\n",
    "\n",
    "Por lo que no hay periodicidad en el dataset. En la **versión dos** de esta implemetanción se utilizará una tecnica para darle periodicidad a los datos.\n",
    "\n",
    "Lo único que nos falta antes de finalizar esta fase de preparación de los datos es almacenar nuestro dataset en formato `CSV`:"
   ]
  },
  {
   "cell_type": "code",
   "execution_count": 52,
   "metadata": {},
   "outputs": [],
   "source": [
    "# Descargar el archivo\n",
    "output = '../../data/dataset_v1_preprocessing.csv'\n",
    "df.to_csv(output)"
   ]
  }
 ],
 "metadata": {
  "kernelspec": {
   "display_name": "Python 3",
   "language": "python",
   "name": "python3"
  },
  "language_info": {
   "codemirror_mode": {
    "name": "ipython",
    "version": 3
   },
   "file_extension": ".py",
   "mimetype": "text/x-python",
   "name": "python",
   "nbconvert_exporter": "python",
   "pygments_lexer": "ipython3",
   "version": "3.12.3"
  }
 },
 "nbformat": 4,
 "nbformat_minor": 2
}
